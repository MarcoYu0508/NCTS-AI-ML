{
 "cells": [
  {
   "cell_type": "code",
   "execution_count": 1,
   "metadata": {
    "collapsed": true
   },
   "outputs": [],
   "source": [
    "%matplotlib inline\n",
    "import numpy as np\n",
    "from sklearn.linear_model import LinearRegression\n",
    "from sklearn.model_selection import train_test_split\n",
    "import pandas as pd\n",
    "import matplotlib.pyplot as plt\n",
    "import seaborn as sns"
   ]
  },
  {
   "cell_type": "markdown",
   "metadata": {},
   "source": [
    "資料來源:https://data.gov.tw/dataset/8984\n",
    "----"
   ]
  },
  {
   "cell_type": "code",
   "execution_count": 2,
   "metadata": {},
   "outputs": [
    {
     "data": {
      "text/html": [
       "<div>\n",
       "<style>\n",
       "    .dataframe thead tr:only-child th {\n",
       "        text-align: right;\n",
       "    }\n",
       "\n",
       "    .dataframe thead th {\n",
       "        text-align: left;\n",
       "    }\n",
       "\n",
       "    .dataframe tbody tr th {\n",
       "        vertical-align: top;\n",
       "    }\n",
       "</style>\n",
       "<table border=\"1\" class=\"dataframe\">\n",
       "  <thead>\n",
       "    <tr style=\"text-align: right;\">\n",
       "      <th></th>\n",
       "      <th>年月</th>\n",
       "      <th>上市股票-平均每股市值(元)</th>\n",
       "      <th>上市股票-平均每股盈餘(元)</th>\n",
       "      <th>上市股票-平均每股淨值(元)</th>\n",
       "      <th>上市股票-本益比()</th>\n",
       "      <th>上市股票-成交值週轉率(％)</th>\n",
       "      <th>上市股票-市值占 GDP比率(％)</th>\n",
       "    </tr>\n",
       "  </thead>\n",
       "  <tbody>\n",
       "    <tr>\n",
       "      <th>0</th>\n",
       "      <td>9201</td>\n",
       "      <td>23.34</td>\n",
       "      <td>0.44</td>\n",
       "      <td>14.98</td>\n",
       "      <td>52.83</td>\n",
       "      <td>20.51</td>\n",
       "      <td>103.32</td>\n",
       "    </tr>\n",
       "    <tr>\n",
       "      <th>1</th>\n",
       "      <td>9202</td>\n",
       "      <td>20.68</td>\n",
       "      <td>0.43</td>\n",
       "      <td>15.00</td>\n",
       "      <td>48.46</td>\n",
       "      <td>10.63</td>\n",
       "      <td>91.40</td>\n",
       "    </tr>\n",
       "    <tr>\n",
       "      <th>2</th>\n",
       "      <td>9203</td>\n",
       "      <td>20.16</td>\n",
       "      <td>0.42</td>\n",
       "      <td>14.99</td>\n",
       "      <td>47.81</td>\n",
       "      <td>10.80</td>\n",
       "      <td>89.15</td>\n",
       "    </tr>\n",
       "    <tr>\n",
       "      <th>3</th>\n",
       "      <td>9204</td>\n",
       "      <td>19.43</td>\n",
       "      <td>0.47</td>\n",
       "      <td>15.21</td>\n",
       "      <td>41.47</td>\n",
       "      <td>13.90</td>\n",
       "      <td>93.29</td>\n",
       "    </tr>\n",
       "    <tr>\n",
       "      <th>4</th>\n",
       "      <td>9205</td>\n",
       "      <td>21.29</td>\n",
       "      <td>0.60</td>\n",
       "      <td>15.51</td>\n",
       "      <td>35.64</td>\n",
       "      <td>10.58</td>\n",
       "      <td>102.37</td>\n",
       "    </tr>\n",
       "  </tbody>\n",
       "</table>\n",
       "</div>"
      ],
      "text/plain": [
       "     年月  上市股票-平均每股市值(元)  上市股票-平均每股盈餘(元)  上市股票-平均每股淨值(元)  上市股票-本益比()  \\\n",
       "0  9201           23.34            0.44           14.98       52.83   \n",
       "1  9202           20.68            0.43           15.00       48.46   \n",
       "2  9203           20.16            0.42           14.99       47.81   \n",
       "3  9204           19.43            0.47           15.21       41.47   \n",
       "4  9205           21.29            0.60           15.51       35.64   \n",
       "\n",
       "   上市股票-成交值週轉率(％)  上市股票-市值占 GDP比率(％)  \n",
       "0           20.51             103.32  \n",
       "1           10.63              91.40  \n",
       "2           10.80              89.15  \n",
       "3           13.90              93.29  \n",
       "4           10.58             102.37  "
      ]
     },
     "execution_count": 2,
     "metadata": {},
     "output_type": "execute_result"
    }
   ],
   "source": [
    "df = pd.read_excel(\"stock.xlsx\")\n",
    "df.head()"
   ]
  },
  {
   "cell_type": "code",
   "execution_count": 3,
   "metadata": {},
   "outputs": [
    {
     "data": {
      "text/plain": [
       "年月                   False\n",
       "上市股票-平均每股市值(元)       False\n",
       "上市股票-平均每股盈餘(元)       False\n",
       "上市股票-平均每股淨值(元)       False\n",
       "上市股票-本益比()           False\n",
       "上市股票-成交值週轉率(％)       False\n",
       "上市股票-市值占 GDP比率(％)    False\n",
       "dtype: bool"
      ]
     },
     "execution_count": 3,
     "metadata": {},
     "output_type": "execute_result"
    }
   ],
   "source": [
    "#檢查資料是否有缺失\n",
    "df.isnull().any()"
   ]
  },
  {
   "cell_type": "code",
   "execution_count": 4,
   "metadata": {
    "collapsed": true
   },
   "outputs": [],
   "source": [
    "market_values = np.array(df[\"上市股票-平均每股市值(元)\"])\n",
    "profit = np.array(df[\"上市股票-平均每股盈餘(元)\"])\n",
    "net_values = np.array(df[\"上市股票-平均每股淨值(元)\"])\n",
    "turnover_rate = np.array(df[\"上市股票-成交值週轉率(％)\"])\n",
    "GDP_ratio = np.array(df[\"上市股票-市值占 GDP比率(％)\"])\n",
    "PE_ratio = np.array(df[\"上市股票-本益比()\"])"
   ]
  },
  {
   "cell_type": "code",
   "execution_count": 5,
   "metadata": {
    "collapsed": true
   },
   "outputs": [],
   "source": [
    "market_values = market_values.reshape(len(market_values),1)\n",
    "profit = profit.reshape(len(profit),1)\n",
    "net_values = net_values.reshape(len(net_values),1)\n",
    "turnover_rate = turnover_rate.reshape(len(turnover_rate),1)\n",
    "GDP_ratio = GDP_ratio.reshape(len(GDP_ratio),1)\n",
    "PE_ratio = PE_ratio.reshape(len(PE_ratio),1)"
   ]
  },
  {
   "cell_type": "code",
   "execution_count": 6,
   "metadata": {
    "collapsed": true
   },
   "outputs": [],
   "source": [
    "#將所有特徵合併\n",
    "Data = np.concatenate((market_values,profit,net_values,turnover_rate,GDP_ratio),axis=1)"
   ]
  },
  {
   "cell_type": "code",
   "execution_count": 7,
   "metadata": {
    "collapsed": true
   },
   "outputs": [],
   "source": [
    "X = Data\n",
    "Y = PE_ratio\n",
    "#產生訓練以及測試資料\n",
    "x_train,x_test,y_train,y_test = train_test_split(X,Y,test_size = 0.3,random_state = 200)"
   ]
  },
  {
   "cell_type": "code",
   "execution_count": 8,
   "metadata": {},
   "outputs": [
    {
     "data": {
      "text/plain": [
       "LinearRegression(copy_X=True, fit_intercept=True, n_jobs=1, normalize=False)"
      ]
     },
     "execution_count": 8,
     "metadata": {},
     "output_type": "execute_result"
    }
   ],
   "source": [
    "#產生模型\n",
    "model = LinearRegression()\n",
    "model.fit(x_train,y_train)"
   ]
  },
  {
   "cell_type": "code",
   "execution_count": 9,
   "metadata": {
    "collapsed": true
   },
   "outputs": [],
   "source": [
    "#設定 X坐標範圍\n",
    "xlabel = np.linspace(92,108+2/12,194) "
   ]
  },
  {
   "cell_type": "code",
   "execution_count": 10,
   "metadata": {},
   "outputs": [
    {
     "data": {
      "image/png": "[encoded data removed]",
      "text/plain": [
       "<Figure size 432x288 with 1 Axes>"
      ]
     },
     "metadata": {},
     "output_type": "display_data"
    }
   ],
   "source": [
    "#將預測結果與實際結果做對照\n",
    "Y_pred = model.predict(X) \n",
    "plt.plot(xlabel,Y_pred,'r')\n",
    "plt.plot(xlabel,Y,'b')\n",
    "plt.xlabel(\"Year\")\n",
    "plt.ylabel(\"PE_ratio\")\n",
    "plt.legend([\"predict\",\"reality\"])\n",
    "plt.grid()"
   ]
  },
  {
   "cell_type": "code",
   "execution_count": 11,
   "metadata": {},
   "outputs": [
    {
     "data": {
      "text/plain": [
       "0.7472329569733216"
      ]
     },
     "execution_count": 11,
     "metadata": {},
     "output_type": "execute_result"
    }
   ],
   "source": [
    "#預測分數\n",
    "model.score(x_test,y_test)"
   ]
  },
  {
   "cell_type": "markdown",
   "metadata": {},
   "source": [
    "結論\n",
    "=====\n",
    "影響股市的因素實際很多，因此實際的趨勢應該是無法單純以線性迴歸推測出其趨勢\n",
    "----"
   ]
  }
 ],
 "metadata": {
  "kernelspec": {
   "display_name": "Python 3",
   "language": "python",
   "name": "python3"
  },
  "language_info": {
   "codemirror_mode": {
    "name": "ipython",
    "version": 3
   },
   "file_extension": ".py",
   "mimetype": "text/x-python",
   "name": "python",
   "nbconvert_exporter": "python",
   "pygments_lexer": "ipython3",
   "version": "3.6.2"
  }
 },
 "nbformat": 4,
 "nbformat_minor": 2
}

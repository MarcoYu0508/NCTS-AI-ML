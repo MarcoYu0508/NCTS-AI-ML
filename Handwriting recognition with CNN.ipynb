{
 "cells": [
  {
   "cell_type": "code",
   "execution_count": 1,
   "metadata": {},
   "outputs": [
    {
     "name": "stdout",
     "output_type": "stream",
     "text": [
      "env: KERAS_BACKEND=tensorflow\n"
     ]
    }
   ],
   "source": [
    "%env KERAS_BACKEND=tensorflow"
   ]
  },
  {
   "cell_type": "code",
   "execution_count": 2,
   "metadata": {},
   "outputs": [],
   "source": [
    "%matplotlib inline\n",
    "\n",
    "import numpy as np\n",
    "import matplotlib.pyplot as plt"
   ]
  },
  {
   "cell_type": "code",
   "execution_count": 3,
   "metadata": {},
   "outputs": [
    {
     "name": "stderr",
     "output_type": "stream",
     "text": [
      "C:\\Users\\SPLab1080\\Anaconda3\\lib\\site-packages\\h5py\\__init__.py:72: UserWarning: h5py is running against HDF5 1.10.2 when it was built against 1.10.3, this may cause problems\n",
      "  '{0}.{1}.{2}'.format(*version.hdf5_built_version_tuple)\n",
      "Using TensorFlow backend.\n"
     ]
    }
   ],
   "source": [
    "from keras.datasets import mnist\n",
    "from keras.utils import np_utils\n",
    "from keras.models import Sequential\n",
    "from keras.layers import Dense, Activation, Flatten\n",
    "from keras.layers import Conv2D, MaxPool2D\n",
    "from keras.optimizers import SGD,Adam\n",
    "from sklearn.metrics import confusion_matrix"
   ]
  },
  {
   "cell_type": "code",
   "execution_count": 4,
   "metadata": {},
   "outputs": [],
   "source": [
    "(x_train0, y_train0),(x_test0, y_test0) = mnist.load_data()"
   ]
  },
  {
   "cell_type": "markdown",
   "metadata": {},
   "source": [
    "# 資料前處理"
   ]
  },
  {
   "cell_type": "code",
   "execution_count": 5,
   "metadata": {},
   "outputs": [],
   "source": [
    "# CNN 要的是(28,28,1)\n",
    "x_train = x_train0.reshape(60000, 28, 28, 1)\n",
    "x_test = x_test0.reshape(10000, 28, 28, 1)"
   ]
  },
  {
   "cell_type": "code",
   "execution_count": 6,
   "metadata": {},
   "outputs": [],
   "source": [
    "y_train = np_utils.to_categorical(y_train0,10)\n",
    "y_test = np_utils.to_categorical(y_test0,10)"
   ]
  },
  {
   "cell_type": "markdown",
   "metadata": {},
   "source": [
    "將資料值的區間設為0~1"
   ]
  },
  {
   "cell_type": "code",
   "execution_count": 7,
   "metadata": {},
   "outputs": [],
   "source": [
    "x_train1 = x_train/x_train.max()\n",
    "x_test1 = x_test/x_test.max()"
   ]
  },
  {
   "cell_type": "markdown",
   "metadata": {},
   "source": [
    "# MODEL1 \n",
    "filter: 4,8,16 pooling layer: 2*2 full connect layer neurons: 20 optimizer: SGD loss function: mean square error"
   ]
  },
  {
   "cell_type": "code",
   "execution_count": 8,
   "metadata": {},
   "outputs": [],
   "source": [
    "model1 = Sequential()\n",
    "model1.add(Conv2D(4,(5,5), padding='same', input_shape=(28,28,1)))\n",
    "model1.add(Activation('relu'))\n",
    "model1.add(MaxPool2D(pool_size=(2,2)))\n",
    "\n",
    "model1.add(Conv2D(8,(5,5), padding='same'))\n",
    "model1.add(Activation('relu'))\n",
    "model1.add(MaxPool2D(pool_size=(2,2)))\n",
    "\n",
    "model1.add(Conv2D(16,(5,5), padding='same'))\n",
    "model1.add(Activation('relu'))\n",
    "model1.add(MaxPool2D(pool_size=(2,2)))\n",
    "\n",
    "model1.add(Flatten())\n",
    "model1.add(Dense(20))\n",
    "model1.add(Activation('relu'))\n",
    "model1.add(Dense(10))\n",
    "model1.add(Activation('softmax'))"
   ]
  },
  {
   "cell_type": "code",
   "execution_count": 9,
   "metadata": {},
   "outputs": [],
   "source": [
    "model1.compile(loss='mse',optimizer=SGD(lr=0.5),metrics=['acc'])"
   ]
  },
  {
   "cell_type": "code",
   "execution_count": 10,
   "metadata": {
    "scrolled": true
   },
   "outputs": [
    {
     "name": "stdout",
     "output_type": "stream",
     "text": [
      "Train on 60000 samples, validate on 10000 samples\n",
      "Epoch 1/30\n",
      "60000/60000 [==============================] - 7s 114us/step - loss: 0.0432 - acc: 0.6703 - val_loss: 0.0149 - val_acc: 0.9000\n",
      "Epoch 2/30\n",
      "60000/60000 [==============================] - 4s 67us/step - loss: 0.0090 - acc: 0.9410 - val_loss: 0.0092 - val_acc: 0.9404\n",
      "Epoch 3/30\n",
      "60000/60000 [==============================] - 4s 67us/step - loss: 0.0064 - acc: 0.9579 - val_loss: 0.0053 - val_acc: 0.9654\n",
      "Epoch 4/30\n",
      "60000/60000 [==============================] - 4s 68us/step - loss: 0.0053 - acc: 0.9658 - val_loss: 0.0051 - val_acc: 0.9674\n",
      "Epoch 5/30\n",
      "60000/60000 [==============================] - 4s 67us/step - loss: 0.0045 - acc: 0.9707 - val_loss: 0.0042 - val_acc: 0.9728\n",
      "Epoch 6/30\n",
      "60000/60000 [==============================] - 4s 67us/step - loss: 0.0041 - acc: 0.9741 - val_loss: 0.0045 - val_acc: 0.9691\n",
      "Epoch 7/30\n",
      "60000/60000 [==============================] - 4s 67us/step - loss: 0.0037 - acc: 0.9761 - val_loss: 0.0034 - val_acc: 0.9782\n",
      "Epoch 8/30\n",
      "60000/60000 [==============================] - 4s 70us/step - loss: 0.0033 - acc: 0.9786 - val_loss: 0.0053 - val_acc: 0.9654\n",
      "Epoch 9/30\n",
      "60000/60000 [==============================] - 5s 76us/step - loss: 0.0030 - acc: 0.9810 - val_loss: 0.0037 - val_acc: 0.9759\n",
      "Epoch 10/30\n",
      "60000/60000 [==============================] - 4s 69us/step - loss: 0.0029 - acc: 0.9816 - val_loss: 0.0027 - val_acc: 0.9826\n",
      "Epoch 11/30\n",
      "60000/60000 [==============================] - 4s 68us/step - loss: 0.0027 - acc: 0.9833 - val_loss: 0.0031 - val_acc: 0.9801\n",
      "Epoch 12/30\n",
      "60000/60000 [==============================] - 4s 69us/step - loss: 0.0025 - acc: 0.9840 - val_loss: 0.0033 - val_acc: 0.9789\n",
      "Epoch 13/30\n",
      "60000/60000 [==============================] - 4s 67us/step - loss: 0.0024 - acc: 0.9847 - val_loss: 0.0024 - val_acc: 0.9840\n",
      "Epoch 14/30\n",
      "60000/60000 [==============================] - 4s 68us/step - loss: 0.0022 - acc: 0.9858 - val_loss: 0.0027 - val_acc: 0.9815\n",
      "Epoch 15/30\n",
      "60000/60000 [==============================] - 4s 67us/step - loss: 0.0022 - acc: 0.9860 - val_loss: 0.0027 - val_acc: 0.9831\n",
      "Epoch 16/30\n",
      "60000/60000 [==============================] - 4s 68us/step - loss: 0.0020 - acc: 0.9873 - val_loss: 0.0030 - val_acc: 0.9800\n",
      "Epoch 17/30\n",
      "60000/60000 [==============================] - 4s 67us/step - loss: 0.0020 - acc: 0.9876 - val_loss: 0.0028 - val_acc: 0.9825\n",
      "Epoch 18/30\n",
      "60000/60000 [==============================] - 4s 67us/step - loss: 0.0019 - acc: 0.9879 - val_loss: 0.0029 - val_acc: 0.9814\n",
      "Epoch 19/30\n",
      "60000/60000 [==============================] - 4s 67us/step - loss: 0.0018 - acc: 0.9887 - val_loss: 0.0023 - val_acc: 0.9846\n",
      "Epoch 20/30\n",
      "60000/60000 [==============================] - 4s 68us/step - loss: 0.0017 - acc: 0.9895 - val_loss: 0.0023 - val_acc: 0.9851\n",
      "Epoch 21/30\n",
      "60000/60000 [==============================] - 4s 67us/step - loss: 0.0017 - acc: 0.9896 - val_loss: 0.0025 - val_acc: 0.9845\n",
      "Epoch 22/30\n",
      "60000/60000 [==============================] - 4s 67us/step - loss: 0.0016 - acc: 0.9903 - val_loss: 0.0029 - val_acc: 0.9814\n",
      "Epoch 23/30\n",
      "60000/60000 [==============================] - 4s 68us/step - loss: 0.0016 - acc: 0.9903 - val_loss: 0.0026 - val_acc: 0.9836\n",
      "Epoch 24/30\n",
      "60000/60000 [==============================] - 4s 69us/step - loss: 0.0016 - acc: 0.9900 - val_loss: 0.0026 - val_acc: 0.9840\n",
      "Epoch 25/30\n",
      "60000/60000 [==============================] - 4s 68us/step - loss: 0.0015 - acc: 0.9907 - val_loss: 0.0025 - val_acc: 0.9837\n",
      "Epoch 26/30\n",
      "60000/60000 [==============================] - 4s 69us/step - loss: 0.0015 - acc: 0.9911 - val_loss: 0.0022 - val_acc: 0.9854\n",
      "Epoch 27/30\n",
      "60000/60000 [==============================] - 4s 68us/step - loss: 0.0014 - acc: 0.9916 - val_loss: 0.0025 - val_acc: 0.9843\n",
      "Epoch 28/30\n",
      "60000/60000 [==============================] - 4s 69us/step - loss: 0.0014 - acc: 0.9917 - val_loss: 0.0024 - val_acc: 0.9852\n",
      "Epoch 29/30\n",
      "60000/60000 [==============================] - 4s 69us/step - loss: 0.0014 - acc: 0.9917 - val_loss: 0.0023 - val_acc: 0.9856\n",
      "Epoch 30/30\n",
      "60000/60000 [==============================] - 4s 68us/step - loss: 0.0012 - acc: 0.9927 - val_loss: 0.0026 - val_acc: 0.9834\n"
     ]
    }
   ],
   "source": [
    "Model1 = model1.fit(x_train1, y_train, batch_size=64, epochs=30,verbose =1,validation_data = (x_test1,y_test))"
   ]
  },
  {
   "cell_type": "code",
   "execution_count": 11,
   "metadata": {},
   "outputs": [
    {
     "data": {
      "image/png": "[encoded data removed]",
      "text/plain": [
       "<Figure size 432x288 with 1 Axes>"
      ]
     },
     "metadata": {
      "needs_background": "light"
     },
     "output_type": "display_data"
    },
    {
     "data": {
      "image/png": "[encoded data removed]",
      "text/plain": [
       "<Figure size 432x288 with 1 Axes>"
      ]
     },
     "metadata": {
      "needs_background": "light"
     },
     "output_type": "display_data"
    }
   ],
   "source": [
    "plt.plot(Model1.history['acc'])\n",
    "plt.plot(Model1.history['val_acc'])\n",
    "plt.title('model training accurancy')\n",
    "plt.xlabel('epoch')\n",
    "plt.ylabel('accurancy')\n",
    "plt.legend(['train_acc','val_acc'],loc='best')\n",
    "plt.grid()\n",
    "plt.show()\n",
    "plt.plot(Model1.history['loss'])\n",
    "plt.plot(Model1.history['val_loss'])\n",
    "plt.title('model training loss')\n",
    "plt.xlabel('epoch')\n",
    "plt.ylabel('loss')\n",
    "plt.legend(['train_loss','val_loss'],loc='best')\n",
    "plt.grid()\n",
    "plt.show()"
   ]
  },
  {
   "cell_type": "markdown",
   "metadata": {},
   "source": [
    "# MODEL2 \n",
    "filter: 8,16,32,64 pooling layer: 2*2 full connect layer neurons: 20 optimizer: Adam loss function: mean square error"
   ]
  },
  {
   "cell_type": "code",
   "execution_count": 12,
   "metadata": {},
   "outputs": [],
   "source": [
    "model2 = Sequential()\n",
    "\n",
    "model2.add(Conv2D(8,(5,5), padding='same'))\n",
    "model2.add(Activation('relu'))\n",
    "model2.add(MaxPool2D(pool_size=(2,2)))\n",
    "\n",
    "model2.add(Conv2D(16,(5,5), padding='same'))\n",
    "model2.add(Activation('relu'))\n",
    "model2.add(MaxPool2D(pool_size=(2,2)))\n",
    "\n",
    "model2.add(Conv2D(32,(5,5), padding='same'))\n",
    "model2.add(Activation('relu'))\n",
    "model2.add(MaxPool2D(pool_size=(2,2)))\n",
    "\n",
    "model2.add(Conv2D(64,(5,5), padding='same'))\n",
    "model2.add(Activation('relu'))\n",
    "model2.add(MaxPool2D(pool_size=(2,2)))\n",
    "\n",
    "model2.add(Flatten())\n",
    "model2.add(Dense(200))\n",
    "model2.add(Activation('relu'))\n",
    "model2.add(Dense(10))\n",
    "model2.add(Activation('softmax'))"
   ]
  },
  {
   "cell_type": "code",
   "execution_count": 13,
   "metadata": {},
   "outputs": [],
   "source": [
    "model2.compile(loss='mse',optimizer=Adam(lr=0.001,beta_1=0.9,beta_2=0.999,epsilon=None,decay=0.0,amsgrad=False),metrics=['acc'])"
   ]
  },
  {
   "cell_type": "code",
   "execution_count": 14,
   "metadata": {
    "scrolled": true
   },
   "outputs": [
    {
     "name": "stdout",
     "output_type": "stream",
     "text": [
      "Train on 60000 samples, validate on 10000 samples\n",
      "Epoch 1/30\n",
      "60000/60000 [==============================] - 6s 93us/step - loss: 0.0117 - acc: 0.9172 - val_loss: 0.0036 - val_acc: 0.9769\n",
      "Epoch 2/30\n",
      "60000/60000 [==============================] - 5s 88us/step - loss: 0.0036 - acc: 0.9765 - val_loss: 0.0041 - val_acc: 0.9735\n",
      "Epoch 3/30\n",
      "60000/60000 [==============================] - 5s 86us/step - loss: 0.0028 - acc: 0.9821 - val_loss: 0.0027 - val_acc: 0.9824\n",
      "Epoch 4/30\n",
      "60000/60000 [==============================] - 5s 86us/step - loss: 0.0023 - acc: 0.9858 - val_loss: 0.0019 - val_acc: 0.9872\n",
      "Epoch 5/30\n",
      "60000/60000 [==============================] - 5s 88us/step - loss: 0.0020 - acc: 0.9874 - val_loss: 0.0019 - val_acc: 0.9877\n",
      "Epoch 6/30\n",
      "60000/60000 [==============================] - 5s 87us/step - loss: 0.0017 - acc: 0.9891 - val_loss: 0.0017 - val_acc: 0.9890\n",
      "Epoch 7/30\n",
      "60000/60000 [==============================] - 5s 87us/step - loss: 0.0016 - acc: 0.9899 - val_loss: 0.0019 - val_acc: 0.9879\n",
      "Epoch 8/30\n",
      "60000/60000 [==============================] - 5s 88us/step - loss: 0.0015 - acc: 0.9907 - val_loss: 0.0027 - val_acc: 0.9836\n",
      "Epoch 9/30\n",
      "60000/60000 [==============================] - 5s 87us/step - loss: 0.0014 - acc: 0.9914 - val_loss: 0.0022 - val_acc: 0.9870\n",
      "Epoch 10/30\n",
      "60000/60000 [==============================] - 5s 87us/step - loss: 0.0013 - acc: 0.9918 - val_loss: 0.0016 - val_acc: 0.9904\n",
      "Epoch 11/30\n",
      "60000/60000 [==============================] - 5s 88us/step - loss: 0.0011 - acc: 0.9930 - val_loss: 0.0015 - val_acc: 0.9906\n",
      "Epoch 12/30\n",
      "60000/60000 [==============================] - 5s 89us/step - loss: 0.0011 - acc: 0.9930 - val_loss: 0.0013 - val_acc: 0.9919\n",
      "Epoch 13/30\n",
      "60000/60000 [==============================] - 5s 89us/step - loss: 0.0010 - acc: 0.9939 - val_loss: 0.0016 - val_acc: 0.9903\n",
      "Epoch 14/30\n",
      "60000/60000 [==============================] - 5s 89us/step - loss: 0.0010 - acc: 0.9938 - val_loss: 0.0020 - val_acc: 0.9877\n",
      "Epoch 15/30\n",
      "60000/60000 [==============================] - 5s 88us/step - loss: 0.0011 - acc: 0.9936 - val_loss: 0.0029 - val_acc: 0.9836\n",
      "Epoch 16/30\n",
      "60000/60000 [==============================] - 5s 88us/step - loss: 0.0012 - acc: 0.9929 - val_loss: 0.0018 - val_acc: 0.9891\n",
      "Epoch 17/30\n",
      "60000/60000 [==============================] - 5s 89us/step - loss: 8.6479e-04 - acc: 0.9949 - val_loss: 0.0017 - val_acc: 0.9898\n",
      "Epoch 18/30\n",
      "60000/60000 [==============================] - 5s 88us/step - loss: 0.0010 - acc: 0.9938 - val_loss: 0.0017 - val_acc: 0.9899\n",
      "Epoch 19/30\n",
      "60000/60000 [==============================] - 5s 88us/step - loss: 8.1816e-04 - acc: 0.9950 - val_loss: 0.0018 - val_acc: 0.9891\n",
      "Epoch 20/30\n",
      "60000/60000 [==============================] - 5s 89us/step - loss: 9.3997e-04 - acc: 0.9945 - val_loss: 0.0019 - val_acc: 0.9886\n",
      "Epoch 21/30\n",
      "60000/60000 [==============================] - 5s 88us/step - loss: 8.5392e-04 - acc: 0.9950 - val_loss: 0.0016 - val_acc: 0.9910\n",
      "Epoch 22/30\n",
      "60000/60000 [==============================] - 5s 88us/step - loss: 8.2828e-04 - acc: 0.9951 - val_loss: 0.0023 - val_acc: 0.9866\n",
      "Epoch 23/30\n",
      "60000/60000 [==============================] - 5s 89us/step - loss: 8.7201e-04 - acc: 0.9950 - val_loss: 0.0016 - val_acc: 0.9914\n",
      "Epoch 24/30\n",
      "60000/60000 [==============================] - 5s 88us/step - loss: 8.8085e-04 - acc: 0.9948 - val_loss: 0.0015 - val_acc: 0.9911\n",
      "Epoch 25/30\n",
      "60000/60000 [==============================] - 5s 88us/step - loss: 9.1449e-04 - acc: 0.9948 - val_loss: 0.0017 - val_acc: 0.9903\n",
      "Epoch 26/30\n",
      "60000/60000 [==============================] - 5s 88us/step - loss: 8.3832e-04 - acc: 0.9950 - val_loss: 0.0015 - val_acc: 0.9918\n",
      "Epoch 27/30\n",
      "60000/60000 [==============================] - 5s 87us/step - loss: 8.1265e-04 - acc: 0.9954 - val_loss: 0.0016 - val_acc: 0.9912\n",
      "Epoch 28/30\n",
      "60000/60000 [==============================] - 5s 88us/step - loss: 8.2757e-04 - acc: 0.9953 - val_loss: 0.0017 - val_acc: 0.9903\n",
      "Epoch 29/30\n",
      "60000/60000 [==============================] - 5s 89us/step - loss: 9.9102e-04 - acc: 0.9945 - val_loss: 0.0020 - val_acc: 0.9891\n",
      "Epoch 30/30\n",
      "60000/60000 [==============================] - 5s 87us/step - loss: 0.0012 - acc: 0.9936 - val_loss: 0.0023 - val_acc: 0.9873\n"
     ]
    }
   ],
   "source": [
    "Model2 = model2.fit(x_train1, y_train, batch_size=64, epochs=30,verbose =1,validation_data = (x_test1,y_test))"
   ]
  },
  {
   "cell_type": "code",
   "execution_count": 15,
   "metadata": {},
   "outputs": [
    {
     "data": {
      "image/png": "[encoded data removed]",
      "text/plain": [
       "<Figure size 432x288 with 1 Axes>"
      ]
     },
     "metadata": {
      "needs_background": "light"
     },
     "output_type": "display_data"
    },
    {
     "data": {
      "image/png": "[encoded data removed]",
      "text/plain": [
       "<Figure size 432x288 with 1 Axes>"
      ]
     },
     "metadata": {
      "needs_background": "light"
     },
     "output_type": "display_data"
    }
   ],
   "source": [
    "plt.plot(Model2.history['acc'])\n",
    "plt.plot(Model2.history['val_acc'])\n",
    "plt.title('model training accurancy')\n",
    "plt.xlabel('epoch')\n",
    "plt.ylabel('accurancy')\n",
    "plt.legend(['train_acc','val_acc'],loc='best')\n",
    "plt.grid()\n",
    "plt.show()\n",
    "plt.plot(Model2.history['loss'])\n",
    "plt.plot(Model2.history['val_loss'])\n",
    "plt.title('model training loss')\n",
    "plt.xlabel('epoch')\n",
    "plt.ylabel('loss')\n",
    "plt.legend(['train_loss','val_loss'],loc='best')\n",
    "plt.grid()\n",
    "plt.show()"
   ]
  },
  {
   "cell_type": "markdown",
   "metadata": {},
   "source": [
    "# MODEL2 \n",
    "filter: 8,16,32,64 pooling layer: 2*2 full connect layer neurons: 20 optimizer: Adam loss function: categorical_crossentropy"
   ]
  },
  {
   "cell_type": "code",
   "execution_count": 16,
   "metadata": {},
   "outputs": [],
   "source": [
    "model3 = Sequential()\n",
    "model3.add(Conv2D(8,(5,5), padding='same'))\n",
    "model3.add(Activation('relu'))\n",
    "model3.add(MaxPool2D(pool_size=(2,2)))\n",
    "\n",
    "model3.add(Conv2D(16,(5,5), padding='same'))\n",
    "model3.add(Activation('relu'))\n",
    "model3.add(MaxPool2D(pool_size=(2,2)))\n",
    "\n",
    "model3.add(Conv2D(32,(5,5), padding='same'))\n",
    "model3.add(Activation('relu'))\n",
    "model3.add(MaxPool2D(pool_size=(2,2)))\n",
    "\n",
    "model3.add(Conv2D(64,(5,5), padding='same'))\n",
    "model3.add(Activation('relu'))\n",
    "model3.add(MaxPool2D(pool_size=(2,2)))\n",
    "\n",
    "model3.add(Flatten())\n",
    "model3.add(Dense(200))\n",
    "model3.add(Activation('relu'))\n",
    "model3.add(Dense(10))\n",
    "model3.add(Activation('softmax'))"
   ]
  },
  {
   "cell_type": "code",
   "execution_count": 17,
   "metadata": {},
   "outputs": [],
   "source": [
    "model3.compile(loss=\"categorical_crossentropy\",optimizer=Adam(lr=0.001,beta_1=0.9,beta_2=0.999,epsilon=None,decay=0.0,amsgrad=False),metrics=['acc'])"
   ]
  },
  {
   "cell_type": "code",
   "execution_count": 18,
   "metadata": {
    "scrolled": true
   },
   "outputs": [
    {
     "name": "stdout",
     "output_type": "stream",
     "text": [
      "Train on 60000 samples, validate on 10000 samples\n",
      "Epoch 1/30\n",
      "60000/60000 [==============================] - 6s 94us/step - loss: 0.2357 - acc: 0.9257 - val_loss: 0.0679 - val_acc: 0.9796\n",
      "Epoch 2/30\n",
      "60000/60000 [==============================] - 5s 88us/step - loss: 0.0683 - acc: 0.9782 - val_loss: 0.0496 - val_acc: 0.9835\n",
      "Epoch 3/30\n",
      "60000/60000 [==============================] - 5s 87us/step - loss: 0.0486 - acc: 0.9849 - val_loss: 0.0385 - val_acc: 0.9878\n",
      "Epoch 4/30\n",
      "60000/60000 [==============================] - 5s 87us/step - loss: 0.0378 - acc: 0.9878 - val_loss: 0.0449 - val_acc: 0.9845\n",
      "Epoch 5/30\n",
      "60000/60000 [==============================] - 5s 88us/step - loss: 0.0306 - acc: 0.9908 - val_loss: 0.0463 - val_acc: 0.9864\n",
      "Epoch 6/30\n",
      "60000/60000 [==============================] - 5s 88us/step - loss: 0.0270 - acc: 0.9913 - val_loss: 0.0329 - val_acc: 0.9904\n",
      "Epoch 7/30\n",
      "60000/60000 [==============================] - 5s 88us/step - loss: 0.0230 - acc: 0.9930 - val_loss: 0.0366 - val_acc: 0.9890\n",
      "Epoch 8/30\n",
      "60000/60000 [==============================] - 5s 89us/step - loss: 0.0205 - acc: 0.9931 - val_loss: 0.0411 - val_acc: 0.9889\n",
      "Epoch 9/30\n",
      "60000/60000 [==============================] - 5s 89us/step - loss: 0.0171 - acc: 0.9947 - val_loss: 0.0345 - val_acc: 0.9904\n",
      "Epoch 10/30\n",
      "60000/60000 [==============================] - 5s 88us/step - loss: 0.0164 - acc: 0.9945 - val_loss: 0.0297 - val_acc: 0.9912\n",
      "Epoch 11/30\n",
      "60000/60000 [==============================] - 5s 88us/step - loss: 0.0144 - acc: 0.9954 - val_loss: 0.0395 - val_acc: 0.9884\n",
      "Epoch 12/30\n",
      "60000/60000 [==============================] - 5s 89us/step - loss: 0.0141 - acc: 0.9956 - val_loss: 0.0359 - val_acc: 0.9895\n",
      "Epoch 13/30\n",
      "60000/60000 [==============================] - 5s 88us/step - loss: 0.0130 - acc: 0.9954 - val_loss: 0.0421 - val_acc: 0.9889\n",
      "Epoch 14/30\n",
      "60000/60000 [==============================] - 5s 88us/step - loss: 0.0101 - acc: 0.9969 - val_loss: 0.0445 - val_acc: 0.9890\n",
      "Epoch 15/30\n",
      "60000/60000 [==============================] - 5s 89us/step - loss: 0.0109 - acc: 0.9966 - val_loss: 0.0412 - val_acc: 0.9906\n",
      "Epoch 16/30\n",
      "60000/60000 [==============================] - 5s 88us/step - loss: 0.0100 - acc: 0.9970 - val_loss: 0.0426 - val_acc: 0.9892\n",
      "Epoch 17/30\n",
      "60000/60000 [==============================] - 5s 88us/step - loss: 0.0094 - acc: 0.9969 - val_loss: 0.0440 - val_acc: 0.9886\n",
      "Epoch 18/30\n",
      "60000/60000 [==============================] - 5s 89us/step - loss: 0.0097 - acc: 0.9970 - val_loss: 0.0410 - val_acc: 0.9914\n",
      "Epoch 19/30\n",
      "60000/60000 [==============================] - 5s 88us/step - loss: 0.0091 - acc: 0.9972 - val_loss: 0.0385 - val_acc: 0.9916\n",
      "Epoch 20/30\n",
      "60000/60000 [==============================] - 5s 88us/step - loss: 0.0086 - acc: 0.9974 - val_loss: 0.0386 - val_acc: 0.9899\n",
      "Epoch 21/30\n",
      "60000/60000 [==============================] - 5s 89us/step - loss: 0.0082 - acc: 0.9973 - val_loss: 0.0475 - val_acc: 0.9895\n",
      "Epoch 22/30\n",
      "60000/60000 [==============================] - 5s 88us/step - loss: 0.0071 - acc: 0.9977 - val_loss: 0.0521 - val_acc: 0.9886\n",
      "Epoch 23/30\n",
      "60000/60000 [==============================] - 5s 89us/step - loss: 0.0063 - acc: 0.9980 - val_loss: 0.0525 - val_acc: 0.9899\n",
      "Epoch 24/30\n",
      "60000/60000 [==============================] - 5s 90us/step - loss: 0.0067 - acc: 0.9980 - val_loss: 0.0491 - val_acc: 0.9891\n",
      "Epoch 25/30\n",
      "60000/60000 [==============================] - 5s 88us/step - loss: 0.0063 - acc: 0.9980 - val_loss: 0.0643 - val_acc: 0.9878\n",
      "Epoch 26/30\n",
      "60000/60000 [==============================] - 5s 88us/step - loss: 0.0078 - acc: 0.9976 - val_loss: 0.0407 - val_acc: 0.9905\n",
      "Epoch 27/30\n",
      "60000/60000 [==============================] - 5s 90us/step - loss: 0.0055 - acc: 0.9985 - val_loss: 0.0538 - val_acc: 0.9888\n",
      "Epoch 28/30\n",
      "60000/60000 [==============================] - 5s 88us/step - loss: 0.0070 - acc: 0.9978 - val_loss: 0.0486 - val_acc: 0.9899\n",
      "Epoch 29/30\n",
      "60000/60000 [==============================] - 5s 89us/step - loss: 0.0052 - acc: 0.9983 - val_loss: 0.0454 - val_acc: 0.9897\n",
      "Epoch 30/30\n",
      "60000/60000 [==============================] - 5s 90us/step - loss: 0.0066 - acc: 0.9980 - val_loss: 0.0509 - val_acc: 0.9889\n"
     ]
    }
   ],
   "source": [
    "Model3 = model3.fit(x_train1, y_train, batch_size=64, epochs=30,verbose =1,validation_data = (x_test1,y_test))"
   ]
  },
  {
   "cell_type": "code",
   "execution_count": 21,
   "metadata": {},
   "outputs": [
    {
     "data": {
      "image/png": "[encoded data removed]",
      "text/plain": [
       "<Figure size 432x288 with 1 Axes>"
      ]
     },
     "metadata": {
      "needs_background": "light"
     },
     "output_type": "display_data"
    },
    {
     "data": {
      "image/png": "[encoded data removed]",
      "text/plain": [
       "<Figure size 432x288 with 1 Axes>"
      ]
     },
     "metadata": {
      "needs_background": "light"
     },
     "output_type": "display_data"
    }
   ],
   "source": [
    "plt.plot(Model3.history['acc'])\n",
    "plt.plot(Model3.history['val_acc'])\n",
    "plt.title('model training accurancy')\n",
    "plt.xlabel('epoch')\n",
    "plt.ylabel('accurancy')\n",
    "plt.legend(['train_acc','val_acc'],loc='best')\n",
    "plt.grid()\n",
    "plt.show()\n",
    "plt.plot(Model2.history['loss'])\n",
    "plt.plot(Model2.history['val_loss'])\n",
    "plt.title('model training loss')\n",
    "plt.xlabel('epoch')\n",
    "plt.ylabel('loss')\n",
    "plt.legend(['train_loss','val_loss'],loc='best')\n",
    "plt.grid()\n",
    "plt.show()"
   ]
  },
  {
   "cell_type": "markdown",
   "metadata": {},
   "source": [
    "# 訓練結果"
   ]
  },
  {
   "cell_type": "code",
   "execution_count": 20,
   "metadata": {},
   "outputs": [
    {
     "name": "stdout",
     "output_type": "stream",
     "text": [
      "60000/60000 [==============================] - 3s 49us/step\n",
      "model1 train_loss:0.0013685095731983045, train_accurancy:0.9917333333333334\n",
      "60000/60000 [==============================] - 3s 54us/step\n",
      "model2 train_loss:0.0011562244771960034, train_accurancy:0.9935666666666667\n",
      "60000/60000 [==============================] - 3s 55us/step\n",
      "model3 train_loss:0.007226891332302087, train_accurancy:0.9976\n"
     ]
    }
   ],
   "source": [
    "score = model1.evaluate(x_train1,y_train)\n",
    "print(f'model1 train_loss:{score[0]}, train_accurancy:{score[1]}')\n",
    "score = model2.evaluate(x_train1,y_train)\n",
    "print(f'model2 train_loss:{score[0]}, train_accurancy:{score[1]}')\n",
    "score = model3.evaluate(x_train1,y_train)\n",
    "print(f'model3 train_loss:{score[0]}, train_accurancy:{score[1]}')"
   ]
  },
  {
   "cell_type": "markdown",
   "metadata": {},
   "source": [
    "# 驗證節果"
   ]
  },
  {
   "cell_type": "code",
   "execution_count": 22,
   "metadata": {},
   "outputs": [
    {
     "name": "stdout",
     "output_type": "stream",
     "text": [
      "10000/10000 [==============================] - 1s 51us/step\n",
      "model valid_loss:0.0025832554725616144, valid_accurancy:0.9834\n",
      "10000/10000 [==============================] - 1s 54us/step\n",
      "model valid_loss:0.0022575854118462666, valid_accurancy:0.9873\n",
      "10000/10000 [==============================] - 1s 56us/step\n",
      "model valid_loss:0.05094307429418577, valid_accurancy:0.9889\n"
     ]
    }
   ],
   "source": [
    "score = model1.evaluate(x_test1,y_test)\n",
    "print(f'model valid_loss:{score[0]}, valid_accurancy:{score[1]}')\n",
    "score = model2.evaluate(x_test1,y_test)\n",
    "print(f'model valid_loss:{score[0]}, valid_accurancy:{score[1]}')\n",
    "score = model3.evaluate(x_test1,y_test)\n",
    "print(f'model valid_loss:{score[0]}, valid_accurancy:{score[1]}')"
   ]
  },
  {
   "cell_type": "markdown",
   "metadata": {},
   "source": [
    "# MODEL1 混淆矩陣"
   ]
  },
  {
   "cell_type": "code",
   "execution_count": 23,
   "metadata": {},
   "outputs": [
    {
     "data": {
      "text/plain": [
       "array([[ 978,    0,    0,    0,    0,    1,    0,    0,    1,    0],\n",
       "       [   0, 1123,    2,    0,    1,    0,    3,    0,    6,    0],\n",
       "       [   4,    0, 1019,    0,    2,    0,    0,    1,    6,    0],\n",
       "       [   0,    0,    1, 1004,    0,    1,    0,    0,    3,    1],\n",
       "       [   0,    0,    2,    0,  974,    0,    2,    0,    2,    2],\n",
       "       [   2,    1,    0,    7,    1,  875,    2,    1,    2,    1],\n",
       "       [   3,    3,    0,    0,    2,    3,  944,    0,    3,    0],\n",
       "       [   0,    4,   19,    3,    0,    1,    0,  995,    2,    4],\n",
       "       [   2,    0,    3,    3,    0,    2,    0,    1,  961,    2],\n",
       "       [   3,    3,    2,    1,   12,    7,    1,    3,   16,  961]],\n",
       "      dtype=int64)"
      ]
     },
     "execution_count": 23,
     "metadata": {},
     "output_type": "execute_result"
    }
   ],
   "source": [
    "y_predict = model1.predict(x_test1)\n",
    "confusion_matrix(y_test.argmax(axis=1),y_predict.argmax(axis=1))"
   ]
  },
  {
   "cell_type": "markdown",
   "metadata": {},
   "source": [
    "# MODEL2 混淆矩陣"
   ]
  },
  {
   "cell_type": "code",
   "execution_count": 24,
   "metadata": {},
   "outputs": [
    {
     "data": {
      "text/plain": [
       "array([[ 971,    0,    5,    1,    0,    0,    1,    1,    1,    0],\n",
       "       [   0, 1127,    2,    0,    3,    1,    2,    0,    0,    0],\n",
       "       [   0,    2, 1026,    1,    1,    0,    0,    2,    0,    0],\n",
       "       [   0,    1,    0, 1006,    0,    0,    0,    2,    1,    0],\n",
       "       [   0,    0,    1,    0,  977,    0,    0,    0,    0,    4],\n",
       "       [   1,    0,    0,   13,    0,  876,    1,    0,    1,    0],\n",
       "       [   5,    3,    1,    1,    3,    6,  937,    0,    2,    0],\n",
       "       [   0,    4,    9,    1,    1,    2,    0, 1007,    2,    2],\n",
       "       [   0,    0,    2,    2,    1,    1,    0,    0,  967,    1],\n",
       "       [   0,    3,    1,    7,    6,    3,    0,    3,    7,  979]],\n",
       "      dtype=int64)"
      ]
     },
     "execution_count": 24,
     "metadata": {},
     "output_type": "execute_result"
    }
   ],
   "source": [
    "y_predict = model2.predict(x_test1)\n",
    "confusion_matrix(y_test.argmax(axis=1),y_predict.argmax(axis=1))"
   ]
  },
  {
   "cell_type": "markdown",
   "metadata": {},
   "source": [
    "# MODEL3 混淆矩陣"
   ]
  },
  {
   "cell_type": "code",
   "execution_count": 25,
   "metadata": {},
   "outputs": [
    {
     "data": {
      "text/plain": [
       "array([[ 979,    0,    0,    0,    0,    0,    0,    0,    0,    1],\n",
       "       [   1, 1134,    0,    0,    0,    0,    0,    0,    0,    0],\n",
       "       [   2,    2, 1013,    6,    1,    0,    1,    2,    5,    0],\n",
       "       [   0,    0,    1,  997,    0,    6,    0,    1,    4,    1],\n",
       "       [   0,    0,    0,    0,  976,    0,    4,    0,    0,    2],\n",
       "       [   1,    1,    0,    4,    0,  884,    1,    0,    1,    0],\n",
       "       [   6,    3,    0,    0,    3,    5,  940,    0,    1,    0],\n",
       "       [   0,    9,    3,    0,    4,    0,    0, 1008,    1,    3],\n",
       "       [   2,    0,    0,    1,    0,    1,    0,    1,  969,    0],\n",
       "       [   0,    2,    0,    1,   12,    1,    0,    1,    3,  989]],\n",
       "      dtype=int64)"
      ]
     },
     "execution_count": 25,
     "metadata": {},
     "output_type": "execute_result"
    }
   ],
   "source": [
    "y_predict = model3.predict(x_test1)\n",
    "confusion_matrix(y_test.argmax(axis=1),y_predict.argmax(axis=1))"
   ]
  },
  {
   "cell_type": "markdown",
   "metadata": {},
   "source": [
    "# 結論\n",
    "增加filter數以及全連接層的神經元數只有讓正確率些微增加，若要讓訓練準確率到更接近應該還有一些參數可以試著調整"
   ]
  }
 ],
 "metadata": {
  "kernelspec": {
   "display_name": "Python 3",
   "language": "python",
   "name": "python3"
  },
  "language_info": {
   "codemirror_mode": {
    "name": "ipython",
    "version": 3
   },
   "file_extension": ".py",
   "mimetype": "text/x-python",
   "name": "python",
   "nbconvert_exporter": "python",
   "pygments_lexer": "ipython3",
   "version": "3.6.6"
  }
 },
 "nbformat": 4,
 "nbformat_minor": 2
}

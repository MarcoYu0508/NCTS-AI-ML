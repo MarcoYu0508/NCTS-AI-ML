{
 "cells": [
  {
   "cell_type": "code",
   "execution_count": 1,
   "metadata": {},
   "outputs": [
    {
     "name": "stdout",
     "output_type": "stream",
     "text": [
      "env: KERAS_BACKEND=tensorflow\n"
     ]
    }
   ],
   "source": [
    "%env KERAS_BACKEND=tensorflow"
   ]
  },
  {
   "cell_type": "code",
   "execution_count": 2,
   "metadata": {},
   "outputs": [],
   "source": [
    "%matplotlib inline\n",
    "import numpy as np\n",
    "import matplotlib.pyplot as plt"
   ]
  },
  {
   "cell_type": "code",
   "execution_count": 3,
   "metadata": {},
   "outputs": [
    {
     "name": "stderr",
     "output_type": "stream",
     "text": [
      "C:\\ProgramData\\Anaconda3\\lib\\site-packages\\h5py\\__init__.py:36: FutureWarning: Conversion of the second argument of issubdtype from `float` to `np.floating` is deprecated. In future, it will be treated as `np.float64 == np.dtype(float).type`.\n",
      "  from ._conv import register_converters as _register_converters\n",
      "Using TensorFlow backend.\n"
     ]
    }
   ],
   "source": [
    "from keras.datasets import imdb"
   ]
  },
  {
   "cell_type": "code",
   "execution_count": 4,
   "metadata": {},
   "outputs": [],
   "source": [
    "(x_train, y_train),(x_test, y_test) = imdb.load_data(num_words=10000)"
   ]
  },
  {
   "cell_type": "code",
   "execution_count": 5,
   "metadata": {},
   "outputs": [
    {
     "name": "stdout",
     "output_type": "stream",
     "text": [
      "訓練資料總比數:25000\n",
      "測試資料總比數:25000\n"
     ]
    }
   ],
   "source": [
    "print(f'訓練資料總比數:{len(x_train)}')\n",
    "print(f'測試資料總比數:{len(x_test)}')"
   ]
  },
  {
   "cell_type": "markdown",
   "metadata": {},
   "source": [
    "# 因為資料長度不一需要統一長度"
   ]
  },
  {
   "cell_type": "code",
   "execution_count": 6,
   "metadata": {},
   "outputs": [],
   "source": [
    "from keras.preprocessing import sequence"
   ]
  },
  {
   "cell_type": "markdown",
   "metadata": {},
   "source": [
    "# 將資料分成不同的maxlen"
   ]
  },
  {
   "cell_type": "code",
   "execution_count": 7,
   "metadata": {},
   "outputs": [],
   "source": [
    "x_train1 = sequence.pad_sequences(x_train, maxlen=150)\n",
    "x_test1 = sequence.pad_sequences(x_test, maxlen=150)\n",
    "x_train2 = sequence.pad_sequences(x_train, maxlen=250)\n",
    "x_test2 = sequence.pad_sequences(x_test, maxlen=250)\n",
    "x_train3 = sequence.pad_sequences(x_train, maxlen=350)\n",
    "x_test3 = sequence.pad_sequences(x_test, maxlen=350)"
   ]
  },
  {
   "cell_type": "markdown",
   "metadata": {},
   "source": [
    "# 文字要壓到N維\n",
    "# LSTM有K個神經元"
   ]
  },
  {
   "cell_type": "code",
   "execution_count": 8,
   "metadata": {},
   "outputs": [],
   "source": [
    "N = 50 #文字要壓到N維\n",
    "K = 10 #LSTM有K個神經元"
   ]
  },
  {
   "cell_type": "code",
   "execution_count": 9,
   "metadata": {},
   "outputs": [],
   "source": [
    "from keras.models import Sequential\n",
    "from keras.layers import Dense, Embedding, Dropout\n",
    "from keras.layers import LSTM\n",
    "from keras.regularizers import l2\n",
    "from keras.callbacks import EarlyStopping"
   ]
  },
  {
   "cell_type": "markdown",
   "metadata": {},
   "source": [
    "# 加入Early stopping 避免Over-fitting"
   ]
  },
  {
   "cell_type": "code",
   "execution_count": 10,
   "metadata": {},
   "outputs": [],
   "source": [
    "early_stopping = EarlyStopping(monitor='val_loss', patience=2, verbose=2)"
   ]
  },
  {
   "cell_type": "markdown",
   "metadata": {},
   "source": [
    "# MODEL1 data_maxlen=150"
   ]
  },
  {
   "cell_type": "code",
   "execution_count": 11,
   "metadata": {},
   "outputs": [
    {
     "name": "stdout",
     "output_type": "stream",
     "text": [
      "_________________________________________________________________\n",
      "Layer (type)                 Output Shape              Param #   \n",
      "=================================================================\n",
      "embedding_1 (Embedding)      (None, None, 50)          500000    \n",
      "_________________________________________________________________\n",
      "lstm_1 (LSTM)                (None, 10)                2440      \n",
      "_________________________________________________________________\n",
      "dropout_1 (Dropout)          (None, 10)                0         \n",
      "_________________________________________________________________\n",
      "dense_1 (Dense)              (None, 1)                 11        \n",
      "=================================================================\n",
      "Total params: 502,451\n",
      "Trainable params: 502,451\n",
      "Non-trainable params: 0\n",
      "_________________________________________________________________\n"
     ]
    }
   ],
   "source": [
    "model1 = Sequential()\n",
    "model1.add(Embedding(10000, N))\n",
    "model1.add(LSTM(K))\n",
    "model1.add(Dropout(0.5))\n",
    "model1.add(Dense(1, activation='sigmoid'))\n",
    "model1.compile(loss='binary_crossentropy',optimizer='adam',metrics=['acc'])\n",
    "model1.summary()"
   ]
  },
  {
   "cell_type": "code",
   "execution_count": 12,
   "metadata": {},
   "outputs": [
    {
     "name": "stdout",
     "output_type": "stream",
     "text": [
      "Train on 25000 samples, validate on 25000 samples\n",
      "Epoch 1/10\n",
      "25000/25000 [==============================] - 74s 3ms/step - loss: 0.4442 - acc: 0.8004 - val_loss: 0.3261 - val_acc: 0.8622\n",
      "Epoch 2/10\n",
      "25000/25000 [==============================] - 76s 3ms/step - loss: 0.2663 - acc: 0.9046 - val_loss: 0.3316 - val_acc: 0.8643\n",
      "Epoch 3/10\n",
      "25000/25000 [==============================] - 74s 3ms/step - loss: 0.2048 - acc: 0.9313 - val_loss: 0.3484 - val_acc: 0.8627\n",
      "Epoch 00003: early stopping\n"
     ]
    }
   ],
   "source": [
    "Model1 = model1.fit(x_train1, y_train, batch_size=32, epochs=10, validation_data = (x_test1,y_test), callbacks=[early_stopping])"
   ]
  },
  {
   "cell_type": "markdown",
   "metadata": {},
   "source": [
    "# MODEL2 data_maxlen=250"
   ]
  },
  {
   "cell_type": "code",
   "execution_count": 13,
   "metadata": {},
   "outputs": [
    {
     "name": "stdout",
     "output_type": "stream",
     "text": [
      "_________________________________________________________________\n",
      "Layer (type)                 Output Shape              Param #   \n",
      "=================================================================\n",
      "embedding_2 (Embedding)      (None, None, 50)          500000    \n",
      "_________________________________________________________________\n",
      "lstm_2 (LSTM)                (None, 10)                2440      \n",
      "_________________________________________________________________\n",
      "dropout_2 (Dropout)          (None, 10)                0         \n",
      "_________________________________________________________________\n",
      "dense_2 (Dense)              (None, 1)                 11        \n",
      "=================================================================\n",
      "Total params: 502,451\n",
      "Trainable params: 502,451\n",
      "Non-trainable params: 0\n",
      "_________________________________________________________________\n"
     ]
    }
   ],
   "source": [
    "model2 = Sequential()\n",
    "model2.add(Embedding(10000, N))\n",
    "model2.add(LSTM(K))\n",
    "model2.add(Dropout(0.5))\n",
    "model2.add(Dense(1, activation='sigmoid'))\n",
    "model2.compile(loss='binary_crossentropy',optimizer='adam',metrics=['acc'])\n",
    "model2.summary()"
   ]
  },
  {
   "cell_type": "code",
   "execution_count": 14,
   "metadata": {},
   "outputs": [
    {
     "name": "stdout",
     "output_type": "stream",
     "text": [
      "Train on 25000 samples, validate on 25000 samples\n",
      "Epoch 1/10\n",
      "25000/25000 [==============================] - 117s 5ms/step - loss: 0.4793 - acc: 0.7854 - val_loss: 0.3689 - val_acc: 0.8461\n",
      "Epoch 2/10\n",
      "25000/25000 [==============================] - 141s 6ms/step - loss: 0.3397 - acc: 0.8747 - val_loss: 0.3747 - val_acc: 0.8524\n",
      "Epoch 3/10\n",
      "25000/25000 [==============================] - 147s 6ms/step - loss: 0.2542 - acc: 0.9114 - val_loss: 0.3429 - val_acc: 0.8674\n",
      "Epoch 4/10\n",
      "25000/25000 [==============================] - 125s 5ms/step - loss: 0.1952 - acc: 0.9347 - val_loss: 0.3701 - val_acc: 0.8682\n",
      "Epoch 5/10\n",
      "25000/25000 [==============================] - 122s 5ms/step - loss: 0.1650 - acc: 0.9474 - val_loss: 0.3908 - val_acc: 0.8674\n",
      "Epoch 00005: early stopping\n"
     ]
    }
   ],
   "source": [
    "Model2 = model2.fit(x_train2, y_train, batch_size=32, epochs=10, validation_data = (x_test2,y_test), callbacks=[early_stopping])"
   ]
  },
  {
   "cell_type": "markdown",
   "metadata": {},
   "source": [
    "# MODEL3 data_maxlen=350"
   ]
  },
  {
   "cell_type": "code",
   "execution_count": 15,
   "metadata": {},
   "outputs": [
    {
     "name": "stdout",
     "output_type": "stream",
     "text": [
      "_________________________________________________________________\n",
      "Layer (type)                 Output Shape              Param #   \n",
      "=================================================================\n",
      "embedding_3 (Embedding)      (None, None, 50)          500000    \n",
      "_________________________________________________________________\n",
      "lstm_3 (LSTM)                (None, 10)                2440      \n",
      "_________________________________________________________________\n",
      "dropout_3 (Dropout)          (None, 10)                0         \n",
      "_________________________________________________________________\n",
      "dense_3 (Dense)              (None, 1)                 11        \n",
      "=================================================================\n",
      "Total params: 502,451\n",
      "Trainable params: 502,451\n",
      "Non-trainable params: 0\n",
      "_________________________________________________________________\n"
     ]
    }
   ],
   "source": [
    "model3 = Sequential()\n",
    "model3.add(Embedding(10000, N))\n",
    "model3.add(LSTM(K))\n",
    "model3.add(Dropout(0.5))\n",
    "model3.add(Dense(1, activation='sigmoid'))\n",
    "model3.compile(loss='binary_crossentropy',optimizer='adam',metrics=['acc'])\n",
    "model3.summary()"
   ]
  },
  {
   "cell_type": "code",
   "execution_count": 16,
   "metadata": {},
   "outputs": [
    {
     "name": "stdout",
     "output_type": "stream",
     "text": [
      "Train on 25000 samples, validate on 25000 samples\n",
      "Epoch 1/10\n",
      "25000/25000 [==============================] - 165s 7ms/step - loss: 0.4647 - acc: 0.7944 - val_loss: 0.3633 - val_acc: 0.8470\n",
      "Epoch 2/10\n",
      "25000/25000 [==============================] - 160s 6ms/step - loss: 0.2788 - acc: 0.9020 - val_loss: 0.3112 - val_acc: 0.8754\n",
      "Epoch 3/10\n",
      "25000/25000 [==============================] - 158s 6ms/step - loss: 0.2095 - acc: 0.9302 - val_loss: 0.3239 - val_acc: 0.8665\n",
      "Epoch 4/10\n",
      "25000/25000 [==============================] - 162s 6ms/step - loss: 0.1695 - acc: 0.9464 - val_loss: 0.3627 - val_acc: 0.8736\n",
      "Epoch 00004: early stopping\n"
     ]
    }
   ],
   "source": [
    "Model3 = model3.fit(x_train3, y_train, batch_size=32, epochs=10, validation_data = (x_test3,y_test), callbacks=[early_stopping])"
   ]
  },
  {
   "cell_type": "code",
   "execution_count": 20,
   "metadata": {},
   "outputs": [
    {
     "data": {
      "image/png": "[encoded data removed]",
      "text/plain": [
       "<Figure size 432x288 with 1 Axes>"
      ]
     },
     "metadata": {},
     "output_type": "display_data"
    },
    {
     "data": {
      "image/png": "[encoded data removed]",
      "text/plain": [
       "<Figure size 432x288 with 1 Axes>"
      ]
     },
     "metadata": {},
     "output_type": "display_data"
    },
    {
     "data": {
      "image/png": "[encoded data removed]",
      "text/plain": [
       "<Figure size 432x288 with 1 Axes>"
      ]
     },
     "metadata": {},
     "output_type": "display_data"
    }
   ],
   "source": [
    "plt.plot(Model1.history['acc'])\n",
    "plt.plot(Model1.history['val_acc'])\n",
    "plt.title('model training accurancy')\n",
    "plt.xlabel('epoch')\n",
    "plt.ylabel('accurancy')\n",
    "plt.legend(['train_acc','val_acc'],loc='best')\n",
    "plt.grid()\n",
    "plt.show()\n",
    "\n",
    "plt.plot(Model2.history['acc'])\n",
    "plt.plot(Model2.history['val_acc'])\n",
    "plt.title('model training accurancy')\n",
    "plt.xlabel('epoch')\n",
    "plt.ylabel('accurancy')\n",
    "plt.legend(['train_acc','val_acc'],loc='best')\n",
    "plt.grid()\n",
    "plt.show()\n",
    "\n",
    "plt.plot(Model3.history['acc'])\n",
    "plt.plot(Model3.history['val_acc'])\n",
    "plt.title('model training accurancy')\n",
    "plt.xlabel('epoch')\n",
    "plt.ylabel('accurancy')\n",
    "plt.legend(['train_acc','val_acc'],loc='best')\n",
    "plt.grid()\n",
    "plt.show()"
   ]
  },
  {
   "cell_type": "code",
   "execution_count": 22,
   "metadata": {},
   "outputs": [
    {
     "name": "stdout",
     "output_type": "stream",
     "text": [
      "25000/25000 [==============================] - 12s 466us/step\n",
      "model1 valid_loss:0.34844840408325195, valid_accurancy:0.86268\n",
      "25000/25000 [==============================] - 11s 454us/step\n",
      "model2 valid_loss:0.4123147798633575, valid_accurancy:0.85892\n",
      "25000/25000 [==============================] - 11s 456us/step\n",
      "model3 valid_loss:0.3913681066393852, valid_accurancy:0.86248\n"
     ]
    }
   ],
   "source": [
    "score = model1.evaluate(x_test1,y_test)\n",
    "print(f'model1 valid_loss:{score[0]}, valid_accurancy:{score[1]}')\n",
    "score = model2.evaluate(x_test1,y_test)\n",
    "print(f'model2 valid_loss:{score[0]}, valid_accurancy:{score[1]}')\n",
    "score = model3.evaluate(x_test1,y_test)\n",
    "print(f'model3 valid_loss:{score[0]}, valid_accurancy:{score[1]}')"
   ]
  },
  {
   "cell_type": "markdown",
   "metadata": {},
   "source": [
    "# 結論\n",
    "由於訓練集以及測試集的資料數是相同的，故推測這是可能容易產生over-fitting的可能，訓練集的模型無法有效涵蓋到測試集某些的狀態，造成validation accurancy 到了某種程度就無法再上升，所以使用early stoppoing、增加資料的maxlen以及使用dropout看是否能將測試集的正確率往上提升"
   ]
  }
 ],
 "metadata": {
  "kernelspec": {
   "display_name": "Python 3",
   "language": "python",
   "name": "python3"
  },
  "language_info": {
   "codemirror_mode": {
    "name": "ipython",
    "version": 3
   },
   "file_extension": ".py",
   "mimetype": "text/x-python",
   "name": "python",
   "nbconvert_exporter": "python",
   "pygments_lexer": "ipython3",
   "version": "3.6.5"
  }
 },
 "nbformat": 4,
 "nbformat_minor": 2
}

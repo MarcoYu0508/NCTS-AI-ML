{
 "cells": [
  {
   "cell_type": "code",
   "execution_count": 1,
   "metadata": {
    "collapsed": true
   },
   "outputs": [],
   "source": [
    "%matplotlib inline\n",
    "import numpy as np\n",
    "import matplotlib.pyplot as plt"
   ]
  },
  {
   "cell_type": "markdown",
   "metadata": {},
   "source": [
    "# 比較 Gradient Descent 使用 Adagrad 前後之差別\n",
    "將權重與偏差值的軌跡畫出比較\n",
    "==="
   ]
  },
  {
   "cell_type": "code",
   "execution_count": 4,
   "metadata": {
    "collapsed": true
   },
   "outputs": [],
   "source": [
    "#隨意產生10筆數據\n",
    "x_data = [201., 323., 216., 456., 161., 874., 731., 113., 672., 910.]\n",
    "y_data = [63., 99., 70., 156., 45., 340., 280., 33., 201., 373.]"
   ]
  },
  {
   "cell_type": "markdown",
   "metadata": {},
   "source": [
    "$$Loss Function =\\frac{1}{2}\\sum_{k=0}^{n}(y-w*x_i-b)^2$$\n"
   ]
  },
  {
   "cell_type": "code",
   "execution_count": 6,
   "metadata": {},
   "outputs": [],
   "source": [
    "#產生不同bias以及weights的Loss值\n",
    "x = np.arange(-50,50,1) #bias\n",
    "y = np.arange(-5,5,0.1) #weight\n",
    "Z =  np.zeros((len(x), len(y)))\n",
    "X, Y = np.meshgrid(x, y)\n",
    "for i in range(len(x)):\n",
    "    for j in range(len(y)):\n",
    "        b = x[i]\n",
    "        w = y[j]\n",
    "        Z[j][i] = 0\n",
    "        for n in range(len(x_data)):\n",
    "            Z[j][i] = Z[j][i] +  0.5*(y_data[n] - b - w*x_data[n])**2\n",
    "        Z[j][i] = Z[j][i]/len(x_data)"
   ]
  },
  {
   "cell_type": "markdown",
   "metadata": {},
   "source": [
    "# Adagrad $$w^1\\longleftarrow w^0 - \\frac{\\eta}{\\sqrt{\\sum_{k=0}^{n}(g^k)^2}+ϵ}$$\n",
    "$$g^k =\\frac{\\partial L(\\theta^k)}{\\partial w}$$\n",
    "---\n",
    "ϵ : 避免分母為0\n",
    "---"
   ]
  },
  {
   "cell_type": "markdown",
   "metadata": {},
   "source": [
    "# 1 未使用Adagrad"
   ]
  },
  {
   "cell_type": "code",
   "execution_count": 7,
   "metadata": {},
   "outputs": [
    {
     "data": {
      "image/png": "[encoded data removed]",
      "text/plain": [
       "<Figure size 432x288 with 1 Axes>"
      ]
     },
     "metadata": {},
     "output_type": "display_data"
    }
   ],
   "source": [
    "#初始化\n",
    "b = 30 \n",
    "w = -4\n",
    "η = 0.0001\n",
    "iteration = 10000\n",
    "\n",
    "b_history = [b]\n",
    "w_history = [w]\n",
    "\n",
    "for i in range(iteration):\n",
    "    \n",
    "    b_grad = 0.0\n",
    "    w_grad = 0.0\n",
    "    for j in range(len(x_data)):\n",
    "        b_grad = b_grad + 0.5*2*(y_data[j] - w*x_data[j] - b)*(-1)\n",
    "        w_grad = w_grad + 0.5*2*(y_data[j] - w*x_data[j] - b)*(-x_data[j])\n",
    "    \n",
    "    b = b - η* b_grad \n",
    "    w = w - η* w_grad    \n",
    "    \n",
    "    b_history.append(b)\n",
    "    w_history.append(w)\n",
    "                   \n",
    "plt.contourf(x,y,Z, 50, alpha=0.5, cmap=plt.get_cmap('jet'))\n",
    "plt.plot(b_history[-1], w_history[-1], 'x', ms=12, markeredgewidth=3, color='orange')\n",
    "plt.plot(b_history, w_history, 'o-', ms=3, lw=1.5, color='black')\n",
    "plt.xlim(-50,50)\n",
    "plt.ylim(-5,5)\n",
    "plt.xlabel(r'$b$', fontsize=16)\n",
    "plt.ylabel(r'$w$', fontsize=16)\n",
    "plt.show()"
   ]
  },
  {
   "cell_type": "markdown",
   "metadata": {},
   "source": [
    "# 結果:產生梯度爆炸"
   ]
  },
  {
   "cell_type": "markdown",
   "metadata": {},
   "source": [
    "# 2 使用Adagrad"
   ]
  },
  {
   "cell_type": "code",
   "execution_count": 199,
   "metadata": {},
   "outputs": [
    {
     "data": {
      "image/png": "[encoded data removed]",
      "text/plain": [
       "<Figure size 432x288 with 1 Axes>"
      ]
     },
     "metadata": {},
     "output_type": "display_data"
    }
   ],
   "source": [
    "b = 30\n",
    "w = -4\n",
    "η = 1\n",
    "iteration = 10000\n",
    "\n",
    "b_lr = 0.0\n",
    "w_lr = 0.0\n",
    "\n",
    "b_history = [b]\n",
    "w_history = [w]\n",
    "\n",
    "for i in range(iteration):\n",
    "    \n",
    "    b_grad = 0.0\n",
    "    w_grad = 0.0\n",
    "    for j in range(len(x_data)):\n",
    "        b_grad = b_grad + 0.5*2*(y_data[j] - w*x_data[j] - b)*(-1)\n",
    "        w_grad = w_grad + 0.5*2*(y_data[j] - w*x_data[j] - b)*(-x_data[j])\n",
    "                   \n",
    "    b_lr = b_lr + b_grad**2\n",
    "    w_lr = w_lr + w_grad**2\n",
    "                   \n",
    "    b = b - η/np.sqrt(b_lr) * b_grad \n",
    "    w = w - η/np.sqrt(w_lr) * w_grad  \n",
    "    \n",
    "    b_history.append(b)\n",
    "    w_history.append(w)\n",
    "                   \n",
    "plt.contourf(x,y,Z, 50, alpha=0.5, cmap=plt.get_cmap('jet'))\n",
    "plt.plot(b_history[-1], w_history[-1], 'x', ms=12, markeredgewidth=3, color='orange')\n",
    "plt.plot(b_history, w_history, 'o-', ms=3, lw=1.5, color='black')\n",
    "plt.xlim(-50,50)\n",
    "plt.ylim(-5,5)\n",
    "plt.xlabel(r'$b$', fontsize=16)\n",
    "plt.ylabel(r'$w$', fontsize=16)\n",
    "plt.show()"
   ]
  },
  {
   "cell_type": "markdown",
   "metadata": {},
   "source": [
    "# 結果:明顯發現權重與偏差值有收斂"
   ]
  },
  {
   "cell_type": "markdown",
   "metadata": {},
   "source": [
    "# 將回歸直線畫出"
   ]
  },
  {
   "cell_type": "code",
   "execution_count": 200,
   "metadata": {},
   "outputs": [
    {
     "data": {
      "text/plain": [
       "<matplotlib.collections.PathCollection at 0x2933cf7cfd0>"
      ]
     },
     "execution_count": 200,
     "metadata": {},
     "output_type": "execute_result"
    },
    {
     "data": {
      "image/png": "[encoded data removed]",
      "text/plain": [
       "<Figure size 432x288 with 1 Axes>"
      ]
     },
     "metadata": {},
     "output_type": "display_data"
    }
   ],
   "source": [
    "x = np.linspace(0,1000,1000)\n",
    "plt.plot(x,w_history[-1]*x + b_history[-1])\n",
    "plt.scatter(x_data,y_data, c='red')"
   ]
  },
  {
   "cell_type": "markdown",
   "metadata": {},
   "source": [
    "# 結論\n",
    "1.隨著迭代次數的增加，學習率會逐漸變小，有助於收斂\n",
    "===\n",
    "2.不同參數有者不同的學習率，有助於找到較佳的解\n",
    "===\n",
    "3.訓練後期由於迭代次數極大會使學習率趨近於0而無法跳出local minima\n",
    "==="
   ]
  }
 ],
 "metadata": {
  "kernelspec": {
   "display_name": "Python 3",
   "language": "python",
   "name": "python3"
  },
  "language_info": {
   "codemirror_mode": {
    "name": "ipython",
    "version": 3
   },
   "file_extension": ".py",
   "mimetype": "text/x-python",
   "name": "python",
   "nbconvert_exporter": "python",
   "pygments_lexer": "ipython3",
   "version": "3.6.2"
  }
 },
 "nbformat": 4,
 "nbformat_minor": 2
}

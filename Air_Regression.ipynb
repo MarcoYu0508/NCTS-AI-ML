{
 "cells": [
  {
   "cell_type": "code",
   "execution_count": 1,
   "metadata": {
    "collapsed": true
   },
   "outputs": [],
   "source": [
    "%matplotlib inline\n",
    "import numpy as np\n",
    "from sklearn.linear_model import LinearRegression\n",
    "from sklearn.model_selection import train_test_split\n",
    "import pandas as pd\n",
    "import matplotlib.pyplot as plt"
   ]
  },
  {
   "cell_type": "markdown",
   "metadata": {},
   "source": [
    "https://erdb.epa.gov.tw/DataRepository/EnvMonitor/AirQualityMonitorDayData.aspx?topic1=%u5927%u6c23&topic2=%u74b0%u5883%u53ca%u751f%u614b%u76e3%u6e2c&subject=%u7a7a%u6c23%u54c1%u8cea"
   ]
  },
  {
   "cell_type": "code",
   "execution_count": 128,
   "metadata": {},
   "outputs": [
    {
     "data": {
      "text/html": [
       "<div>\n",
       "<style>\n",
       "    .dataframe thead tr:only-child th {\n",
       "        text-align: right;\n",
       "    }\n",
       "\n",
       "    .dataframe thead th {\n",
       "        text-align: left;\n",
       "    }\n",
       "\n",
       "    .dataframe tbody tr th {\n",
       "        vertical-align: top;\n",
       "    }\n",
       "</style>\n",
       "<table border=\"1\" class=\"dataframe\">\n",
       "  <thead>\n",
       "    <tr style=\"text-align: right;\">\n",
       "      <th></th>\n",
       "      <th>序號</th>\n",
       "      <th>縣市</th>\n",
       "      <th>監測日期</th>\n",
       "      <th>測站</th>\n",
       "      <th>二氧化硫&lt;br /&gt;SO2&lt;br /&gt;(ppb)</th>\n",
       "      <th>一氧化碳&lt;br /&gt;CO&lt;br /&gt;(ppm)</th>\n",
       "      <th>臭氧&lt;br /&gt;O3&lt;br /&gt;(ppb)</th>\n",
       "      <th>懸浮微粒&lt;br /&gt;PM 10 &lt;br /&gt;(μg/m 3 )</th>\n",
       "      <th>細懸浮微粒&lt;br /&gt;PM 2.5 &lt;br /&gt;(μg/m 3 )</th>\n",
       "      <th>氮氧化物&lt;br /&gt;NOx&lt;br /&gt;(ppb)</th>\n",
       "      <th>一氧化氮&lt;br /&gt;NO&lt;br /&gt;(ppb)</th>\n",
       "      <th>二氧化氮&lt;br /&gt;NO2&lt;br /&gt;(ppb)</th>\n",
       "      <th>總碳氫化合物&lt;br /&gt;THC&lt;br /&gt;(ppm)</th>\n",
       "      <th>非甲烷碳氫化合物&lt;br /&gt;NMHC&lt;br /&gt;(ppm)</th>\n",
       "      <th>甲烷&lt;br /&gt;CH4&lt;br /&gt;(ppm)</th>\n",
       "      <th>風速&lt;br /&gt;WIND_SPEED&lt;br /&gt;(m/sec)</th>\n",
       "      <th>小時風速值&lt;br /&gt;WS_HR&lt;br /&gt;(m/sec)</th>\n",
       "      <th>溫度&lt;br /&gt;AMB_TEMP&lt;br /&gt;(℃)</th>\n",
       "      <th>相對濕度&lt;br /&gt;RH&lt;br /&gt;(percent)</th>\n",
       "    </tr>\n",
       "  </thead>\n",
       "  <tbody>\n",
       "    <tr>\n",
       "      <th>0</th>\n",
       "      <td>1</td>\n",
       "      <td>臺北市</td>\n",
       "      <td>2019-03-31</td>\n",
       "      <td>古亭</td>\n",
       "      <td>1.3</td>\n",
       "      <td>0.28</td>\n",
       "      <td>58.0</td>\n",
       "      <td>54</td>\n",
       "      <td>25</td>\n",
       "      <td>9</td>\n",
       "      <td>1.15</td>\n",
       "      <td>7.85</td>\n",
       "      <td>1.96</td>\n",
       "      <td>0.053</td>\n",
       "      <td>1.903</td>\n",
       "      <td>3.73</td>\n",
       "      <td>3.26</td>\n",
       "      <td>19.80</td>\n",
       "      <td>72.50</td>\n",
       "    </tr>\n",
       "    <tr>\n",
       "      <th>1</th>\n",
       "      <td>2</td>\n",
       "      <td>臺北市</td>\n",
       "      <td>2019-03-30</td>\n",
       "      <td>古亭</td>\n",
       "      <td>1.6</td>\n",
       "      <td>0.37</td>\n",
       "      <td>43.5</td>\n",
       "      <td>32</td>\n",
       "      <td>18</td>\n",
       "      <td>16</td>\n",
       "      <td>2.98</td>\n",
       "      <td>13.36</td>\n",
       "      <td>2.04</td>\n",
       "      <td>0.095</td>\n",
       "      <td>1.941</td>\n",
       "      <td>2.23</td>\n",
       "      <td>1.92</td>\n",
       "      <td>21.74</td>\n",
       "      <td>75.55</td>\n",
       "    </tr>\n",
       "    <tr>\n",
       "      <th>2</th>\n",
       "      <td>3</td>\n",
       "      <td>臺北市</td>\n",
       "      <td>2019-03-29</td>\n",
       "      <td>古亭</td>\n",
       "      <td>1.7</td>\n",
       "      <td>0.45</td>\n",
       "      <td>28.3</td>\n",
       "      <td>50</td>\n",
       "      <td>27</td>\n",
       "      <td>22</td>\n",
       "      <td>3.48</td>\n",
       "      <td>18.57</td>\n",
       "      <td>2.08</td>\n",
       "      <td>0.136</td>\n",
       "      <td>1.939</td>\n",
       "      <td>1.80</td>\n",
       "      <td>1.39</td>\n",
       "      <td>24.08</td>\n",
       "      <td>78.46</td>\n",
       "    </tr>\n",
       "    <tr>\n",
       "      <th>3</th>\n",
       "      <td>4</td>\n",
       "      <td>臺北市</td>\n",
       "      <td>2019-03-28</td>\n",
       "      <td>古亭</td>\n",
       "      <td>2.5</td>\n",
       "      <td>0.62</td>\n",
       "      <td>28.7</td>\n",
       "      <td>42</td>\n",
       "      <td>23</td>\n",
       "      <td>27</td>\n",
       "      <td>4.99</td>\n",
       "      <td>21.55</td>\n",
       "      <td>2.14</td>\n",
       "      <td>0.175</td>\n",
       "      <td>1.965</td>\n",
       "      <td>1.67</td>\n",
       "      <td>1.34</td>\n",
       "      <td>26.14</td>\n",
       "      <td>68.35</td>\n",
       "    </tr>\n",
       "    <tr>\n",
       "      <th>4</th>\n",
       "      <td>5</td>\n",
       "      <td>臺北市</td>\n",
       "      <td>2019-03-27</td>\n",
       "      <td>古亭</td>\n",
       "      <td>3.2</td>\n",
       "      <td>0.74</td>\n",
       "      <td>30.5</td>\n",
       "      <td>49</td>\n",
       "      <td>29</td>\n",
       "      <td>35</td>\n",
       "      <td>6.04</td>\n",
       "      <td>29.42</td>\n",
       "      <td>2.35</td>\n",
       "      <td>0.275</td>\n",
       "      <td>2.073</td>\n",
       "      <td>1.37</td>\n",
       "      <td>1.04</td>\n",
       "      <td>23.93</td>\n",
       "      <td>70.93</td>\n",
       "    </tr>\n",
       "  </tbody>\n",
       "</table>\n",
       "</div>"
      ],
      "text/plain": [
       "   序號   縣市       監測日期  測站  二氧化硫<br />SO2<br />(ppb)  一氧化碳<br />CO<br />(ppm)  \\\n",
       "0   1  臺北市 2019-03-31  古亭                       1.3                     0.28   \n",
       "1   2  臺北市 2019-03-30  古亭                       1.6                     0.37   \n",
       "2   3  臺北市 2019-03-29  古亭                       1.7                     0.45   \n",
       "3   4  臺北市 2019-03-28  古亭                       2.5                     0.62   \n",
       "4   5  臺北市 2019-03-27  古亭                       3.2                     0.74   \n",
       "\n",
       "   臭氧<br />O3<br />(ppb) 懸浮微粒<br />PM 10 <br />(μg/m 3 )  \\\n",
       "0                   58.0                              54   \n",
       "1                   43.5                              32   \n",
       "2                   28.3                              50   \n",
       "3                   28.7                              42   \n",
       "4                   30.5                              49   \n",
       "\n",
       "   細懸浮微粒<br />PM 2.5 <br />(μg/m 3 ) 氮氧化物<br />NOx<br />(ppb)  \\\n",
       "0                                 25                        9   \n",
       "1                                 18                       16   \n",
       "2                                 27                       22   \n",
       "3                                 23                       27   \n",
       "4                                 29                       35   \n",
       "\n",
       "  一氧化氮<br />NO<br />(ppb) 二氧化氮<br />NO2<br />(ppb) 總碳氫化合物<br />THC<br />(ppm)  \\\n",
       "0                    1.15                     7.85                       1.96   \n",
       "1                    2.98                    13.36                       2.04   \n",
       "2                    3.48                    18.57                       2.08   \n",
       "3                    4.99                    21.55                       2.14   \n",
       "4                    6.04                    29.42                       2.35   \n",
       "\n",
       "  非甲烷碳氫化合物<br />NMHC<br />(ppm) 甲烷<br />CH4<br />(ppm)  \\\n",
       "0                         0.053                  1.903   \n",
       "1                         0.095                  1.941   \n",
       "2                         0.136                  1.939   \n",
       "3                         0.175                  1.965   \n",
       "4                         0.275                  2.073   \n",
       "\n",
       "   風速<br />WIND_SPEED<br />(m/sec)  小時風速值<br />WS_HR<br />(m/sec)  \\\n",
       "0                             3.73                           3.26   \n",
       "1                             2.23                           1.92   \n",
       "2                             1.80                           1.39   \n",
       "3                             1.67                           1.34   \n",
       "4                             1.37                           1.04   \n",
       "\n",
       "   溫度<br />AMB_TEMP<br />(℃)  相對濕度<br />RH<br />(percent)  \n",
       "0                      19.80                        72.50  \n",
       "1                      21.74                        75.55  \n",
       "2                      24.08                        78.46  \n",
       "3                      26.14                        68.35  \n",
       "4                      23.93                        70.93  "
      ]
     },
     "execution_count": 128,
     "metadata": {},
     "output_type": "execute_result"
    }
   ],
   "source": [
    "df = pd.read_excel(\"空氣品質監測日值_古亭.xlsx\")\n",
    "df.head(5)"
   ]
  },
  {
   "cell_type": "code",
   "execution_count": 132,
   "metadata": {},
   "outputs": [],
   "source": [
    "df.replace('-',0,inplace=True)"
   ]
  },
  {
   "cell_type": "code",
   "execution_count": 133,
   "metadata": {},
   "outputs": [],
   "source": [
    "data1 = np.array(df.iloc[:,4:8])\n",
    "data2 = np.array(df.iloc[:,9:19])\n",
    "x_data = np.concatenate((data1,data2),axis=1)\n",
    "y_data = np.array(df.iloc[:,8])"
   ]
  },
  {
   "cell_type": "code",
   "execution_count": 134,
   "metadata": {},
   "outputs": [],
   "source": [
    "x_train,x_test,y_train,y_test = train_test_split(x_data,y_data,test_size = 0.3,random_state = 200)"
   ]
  },
  {
   "cell_type": "code",
   "execution_count": 136,
   "metadata": {},
   "outputs": [
    {
     "data": {
      "text/plain": [
       "LinearRegression(copy_X=True, fit_intercept=True, n_jobs=1, normalize=False)"
      ]
     },
     "execution_count": 136,
     "metadata": {},
     "output_type": "execute_result"
    }
   ],
   "source": [
    "model = LinearRegression()\n",
    "model.fit(x_train,y_train)"
   ]
  },
  {
   "cell_type": "code",
   "execution_count": 150,
   "metadata": {},
   "outputs": [],
   "source": [
    "xlabel = np.array(np.datetime_as_string(df.iloc[:,2]))\n",
    "for i in range(0,len(xlabel)):\n",
    "    xlabel[i] = xlabel[i][0:10]"
   ]
  },
  {
   "cell_type": "code",
   "execution_count": 151,
   "metadata": {},
   "outputs": [
    {
     "data": {
      "text/plain": [
       "0.8920499870495802"
      ]
     },
     "execution_count": 151,
     "metadata": {},
     "output_type": "execute_result"
    }
   ],
   "source": [
    "model.score(x_test,y_test)"
   ]
  },
  {
   "cell_type": "code",
   "execution_count": 156,
   "metadata": {},
   "outputs": [
    {
     "data": {
      "text/plain": [
       "[<matplotlib.lines.Line2D at 0x230e52d4f28>]"
      ]
     },
     "execution_count": 156,
     "metadata": {},
     "output_type": "execute_result"
    },
    {
     "data": {
      "image/png": "[encoded data removed]",
      "text/plain": [
       "<Figure size 432x288 with 1 Axes>"
      ]
     },
     "metadata": {},
     "output_type": "display_data"
    }
   ],
   "source": [
    "Y_pred = model.predict(x_test) \n",
    "plt.plot(Y_pred)\n",
    "plt.plot(y_test)"
   ]
  },
  {
   "cell_type": "code",
   "execution_count": null,
   "metadata": {
    "collapsed": true
   },
   "outputs": [],
   "source": []
  }
 ],
 "metadata": {
  "kernelspec": {
   "display_name": "Python 3",
   "language": "python",
   "name": "python3"
  },
  "language_info": {
   "codemirror_mode": {
    "name": "ipython",
    "version": 3
   },
   "file_extension": ".py",
   "mimetype": "text/x-python",
   "name": "python",
   "nbconvert_exporter": "python",
   "pygments_lexer": "ipython3",
   "version": "3.6.2"
  }
 },
 "nbformat": 4,
 "nbformat_minor": 2
}
